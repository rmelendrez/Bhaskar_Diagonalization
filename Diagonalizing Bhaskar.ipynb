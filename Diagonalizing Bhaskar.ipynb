{
 "cells": [
  {
   "cell_type": "markdown",
   "metadata": {},
   "source": [
    "<font face = \"Times New Roman\">\n",
    "\n",
    "## Controlling dynamical many body freezing via local driving"
   ]
  },
  {
   "cell_type": "markdown",
   "metadata": {},
   "source": [
    "<font face = \"Times New Roman\">\n",
    "\n",
    "Consider the spin 1/2 chain with open boundary conditions?\n",
    "\n",
    "$$H = H_0 + H_D$$\n",
    "$$H_0 = \\sum_{\\langle i,j\\rangle} (-1)^i \\vec{S}_i \\cdot \\vec{S}_j -h \\sum_i^N S_i^z$$\n",
    "$$H_D = {\\rm sgn} \\Big( \\sin (\\omega t) \\Big) \\sum_{i}^N \\phi_i^x S_i^x$$\n",
    "\n",
    "$$|\\psi(0)\\rangle = |\\rightarrow \\rightarrow \\rightarrow \\cdots \\rangle$$\n",
    "\n",
    "If \n",
    "$$\\phi_1^x = \\phi_2^x = \\cdots =\\phi_N^x$$\n",
    "$$H_D = \\phi^x \\, {\\rm sgn} \\Big( \\sin (\\omega t) \\Big) \\sum_{i}^N  S_i^x$$\n"
   ]
  },
  {
   "cell_type": "markdown",
   "metadata": {},
   "source": [
    "<font face = \"Times New Roman\">\n",
    "\n",
    "### Some Floquet Business..\n",
    "\n",
    "$$i\\hbar \\frac{\\partial }{\\partial t}|\\psi(t)\\rangle = H | \\psi(t) \\rangle $$\n",
    "\n",
    "We are working with a Floquet system. The Hamiltonian is periodic in time.\n",
    "\n",
    "$$H(t) = H(t+n \\tau)$$\n",
    "\n",
    "We know that the system is governed by a time evolution operator. Without loss of generality let us write\n",
    "$$U(t,t_0) = U(t,t_0) \\mathbb{I} = U(t,t_0) e^{+i H_F (t-t_0)}e^{-i H_F (t-t_0)}$$\n",
    "\n",
    "Pretend we do not know what $H_F$ is\n",
    "\n",
    "Let us define \n",
    "$$W(t,t_0) = U(t,t_0) e^{+i H_F (t-t_0)}$$\n",
    "\n",
    "Naturally then we get\n",
    "\n",
    "$$ U(t,t_0) =  W(t,t_0) e^{-i H_F (t-t_0)}$$\n",
    "\n",
    "Consider the above expression evaluated at $t = t_0$.\n",
    "$$ U(t_0,t_0) =  W(t_0,t_0) e^{-i H_F (t_0-t_0)} =  W(t_0,t_0) =  \\mathbb{I}$$\n",
    "\n",
    "Consider the same expression evaluated at $t = t_0 +T$. Where $T$ is the periodicity of the Hamiltonian.\n",
    "\n",
    "$$ U(T+t_0,t_0) =  W(T+t_0,t_0) e^{-i H_F (T+t_0-t_0)} = W(T+t_0,t_0) e^{-i H_F T} $$\n",
    "\n",
    "$$ U(T+t_0,t_0) = U(t_0,t_0) = \\mathbb{I}$$\n",
    "\n",
    "$$ U(T+t_0,t_0) =  W(T+t_0,t_0) e^{-i H_F (T+t_0-t_0)} = W(T+t_0,t_0) e^{-i H_F T} = U(t_0,t_0) $$\n",
    "\n",
    "$$W(T+t_0,t_0) e^{-i H_F T} = U(t_0,t_0) = \\mathbb{I} $$\n",
    "\n",
    "$$W(T+t_0,t_0) = e^{+i H_F T}$$\n",
    "\n",
    "\n",
    "Now that we have motivated have some operator $ W(t)$ and that it is unitary and a function of time.\n",
    "\n",
    "$$|\\psi\\rangle = W(t)|\\phi(t)\\rangle   $$\n",
    "\n",
    "$$i\\hbar \\frac{\\partial }{\\partial t}(W(t)|\\phi(t)\\rangle) = H  W(t)| \\phi(t) \\rangle $$\n",
    "$$i\\hbar \\frac{\\partial W(t) }{\\partial t}|\\phi(t)\\rangle +i\\hbar W(t)\\frac{\\partial  |\\phi(t)\\rangle}{\\partial t} = H  W(t)| \\phi(t) \\rangle $$\n",
    "$$i\\hbar W(t)\\frac{\\partial  |\\phi(t)\\rangle}{\\partial t} = H  W(t)| \\phi(t) \\rangle -i\\hbar \\frac{\\partial W(t) }{\\partial t}|\\phi(t)\\rangle  $$\n",
    "\n",
    "Left mult by $W(t)^\\dagger$\n",
    "\n",
    "$$W(t)^\\dagger\\big(i\\hbar W(t)\\frac{\\partial  |\\phi(t)\\rangle}{\\partial t} = H  W(t)| \\phi(t) \\rangle -i\\hbar \\frac{\\partial W(t) }{\\partial t}|\\phi(t)\\rangle\\big)  $$\n",
    "\n",
    "$$i\\hbar W(t)^\\dagger W(t)\\frac{\\partial  |\\phi(t)\\rangle}{\\partial t} =W(t)^\\dagger H  W(t)| \\phi(t) \\rangle -i\\hbar W(t)^\\dagger\\frac{\\partial W(t) }{\\partial t}|\\phi(t)\\rangle  $$\n",
    "\n",
    "$$i\\hbar \\frac{\\partial  |\\phi(t)\\rangle}{\\partial t} =\\Big(W^\\dagger(t) H  W(t)-i\\hbar W^\\dagger(t)\\frac{\\partial W(t) }{\\partial t}\\Big)|\\phi(t)\\rangle  $$\n",
    "\n",
    "Okay,\n",
    "\n",
    "We have written that\n",
    "\n",
    "$$W(t) = U(t,t_0) e^{+i H_F (t-t_0)}$$\n",
    "\n",
    "Let us calculate its derivative since its derivative popped up in our above calculations\n",
    "\n",
    "$$\\frac{d W(t)}{dt} = \\frac{d U(t,t_0)}{dt} e^{+i H_F (t-t_0)}+U(t,t_0) \\frac{d(e^{+i H_F (t-t_0)})}{dt}$$\n",
    "\n",
    "$$\\frac{d W(t)}{dt} = -\\frac{i}{\\hbar}H U(t,t_0) e^{+i H_F (t-t_0)}+\\frac{i}{\\hbar} U(t,t_0)e^{+i H_F (t-t_0)} H_F $$\n",
    "\n",
    "$$\\frac{d W(t)}{dt} = -\\frac{i}{\\hbar}H W(t)+\\frac{i}{\\hbar} W(t) H_F $$\n",
    "\n",
    "$$W(t)^\\dagger\\frac{d W(t)}{dt} = -\\frac{i}{\\hbar}W(t)^\\dagger H W(t)+\\frac{i}{\\hbar} W(t)^\\dagger W(t) H_F $$\n",
    "\n",
    "$$i\\hbar W(t)^\\dagger\\frac{d W(t)}{dt} = W(t)^\\dagger H W(t)-H_F $$\n",
    "\n",
    "$$i\\hbar \\frac{\\partial  |\\phi(t)\\rangle}{\\partial t} =\\Big(W^\\dagger(t) H  W(t)-(W(t)^\\dagger H W(t)-H_F)\\Big)|\\phi(t)\\rangle  $$"
   ]
  },
  {
   "cell_type": "markdown",
   "metadata": {},
   "source": [
    "<font face = \"Times New Roman\">\n",
    "    \n",
    "$$W(t) = e^{-i \\int_0^t dt H_D(t)} = e^{-i \\theta(t) S_1^x}$$\n",
    "\n",
    "Where \n",
    "$$\\theta(t) =\\phi_1 t \\sum_n \\Theta(n T + \\frac{T}{2} - t)  \\Theta(t-n T)$$\n",
    "$$+ \\phi_1(T-t)\\sum_n \\Big[\\Theta((n+1)T-t)\\Theta(t-(nT + \\frac{T}{2})) \\Big]$$"
   ]
  },
  {
   "cell_type": "markdown",
   "metadata": {},
   "source": [
    "<font face = \"Times New Roman\">\n",
    "\n",
    "### Floquet Magnus Expansion\n",
    "\n",
    "##### Time evolution operator\n",
    "We know that in general we get the differential equation for the time evolution operator\n",
    "$$i\\hbar \\frac{\\partial U(t) }{\\partial t} = H(t) U(t)$$\n",
    "\n",
    "In the spirit of perturbation theory let us multiply $ H(t)$ by $\\lambda$. We don't lose anything we can set $\\lambda = 1$ at any point in the calculation.\n",
    "\n",
    "$$i\\hbar \\frac{\\partial U(t) }{\\partial t} =  \\lambda H(t) U(t)$$\n",
    "\n",
    "Now let us divide by $i$ and $\\hbar$.\n",
    "\n",
    "$$\\frac{\\partial U(t) }{\\partial t} =  \\lambda \\frac{H(t)}{i\\hbar} U(t)$$\n",
    "\n",
    "let us define $\\tilde{H(t)} = \\frac{H(t)}{i \\hbar}$\n",
    "\n",
    "$$\\frac{\\partial U(t) }{\\partial t} =  \\lambda \\tilde{H(t)} U(t)$$\n",
    "\n",
    "Now we can do the song and dance which is in Fetter and Waleka \n",
    "\n",
    "and produce the Dyson's equation.\n",
    "\n",
    "We will get\n",
    "\n",
    "$$U(t,t_0) = \\mathbb{I}+ \\frac{\\lambda}{1!}\\int_{t_0}^t dt_1 \\tilde{H}(t_1) + \\frac{\\lambda^2}{2!}\\int_{t_0}^t dt_1\\int_{t_0}^t dt_2 \\tilde{H}(t_1)\\tilde{H}(t_2)+\\cdots+ \\frac{\\lambda^n}{n!}\\int_{t_0}^t dt_1\\int_{t_0}^t dt_2 \\cdots \\int_{t_0}^t dt_n \\tilde{H}(t_1)\\tilde{H}(t_2)\\cdots \\tilde{H}(t_n) $$\n",
    "\n",
    "Interestingly, if $\\tilde{H}$ had no explicit time independent then we get powers of those integrals.\n",
    "\n",
    "$$U(t,t_0) = \\mathbb{I}+ \\frac{\\lambda}{1!}\\int_{t_0}^t dt_1 \\tilde{H} + \\frac{\\lambda^2}{2!}\\Big(\\int_{t_0}^t dt_1 \\tilde{H}\\Big)^2+\\cdots+ \\frac{\\lambda^n}{n!}\\Big(\\int_{t_0}^t dt_1 \\tilde{H}\\Big)^n \\equiv e^{ \\int_{t_0}^t dt_1 \\lambda \\tilde{H}}$$\n",
    "\n",
    "here we that there exists an expansion\n",
    "\n",
    "$$U(t,t_0) =  e^{\\Omega(t,t_0)} = \\mathbb{I}+\\sum_{n=1}^{\\infty}\\frac{1}{n!}\\Omega^n$$\n",
    "\n",
    "Two things can help us now\n",
    "\n",
    "The time evolution operator following the properties of a group\n",
    "$$U(t_2,t_1)U(t_1,t_0) = U(t_2,t_0)$$\n",
    "and the BCH expansion\n",
    "$$ e^Xe^Y = e^{(X+Y + \\frac{1}{2}[X,Y]+\\frac{1}{12}[X,[X,Y]]+\\frac{1}{12}[Y,[Y,X]]\\cdots)} = e^{X+Y+\\sum_{n=0}^\\infty (-1)^k\\frac{B_k}{k!}[Y,[\\cdots[Y,X]]]}$$\n",
    "\n",
    "$$U(t+\\delta t,t_0) =U(t+\\delta t,t)U(t,t_0) $$\n",
    "\n",
    "In the limit that $\\delta t \\rightarrow 0$\n",
    "\n",
    "$$U(t+\\delta t,t_0) =e^{\\lambda \\tilde{H}(t)\\delta t}U(t,t_0) $$\n",
    "$$e^{\\Omega(t+\\delta t,t_0)} =e^{\\lambda \\tilde{H}(t)\\delta t}e^{\\Omega(t,t_0)} $$\n",
    "\n",
    "$$$$\n",
    "We postulate that we can get \n",
    "\n",
    "$$\\Omega = \\sum_{k=1}^\\infty \\lambda^k \\Omega_k$$\n",
    "\n",
    "\n",
    "\n",
    "\n",
    "\n",
    "\n",
    "\n",
    "$$e^{-i H_{\\rm eff} T} = F = \\mathcal{T}\\Big( e^{-i \\int_{t_0}^{T+t_0} dt \\, H(t)} \\Big)$$\n",
    "$$\\equiv \\sum_{n=0}^\\infty (\\frac{-i}{\\hbar})^n \\frac{1}{n!}\\int_{t_0}^t dt_1 \\int_{t_0}^t dt_2 \\cdots \\int_{t_0}^t dt_n T[H(t_1)\\cdots H(t_n)]$$"
   ]
  },
  {
   "cell_type": "code",
   "execution_count": null,
   "metadata": {},
   "outputs": [],
   "source": []
  },
  {
   "cell_type": "code",
   "execution_count": null,
   "metadata": {},
   "outputs": [],
   "source": []
  },
  {
   "cell_type": "code",
   "execution_count": null,
   "metadata": {},
   "outputs": [],
   "source": []
  },
  {
   "cell_type": "code",
   "execution_count": null,
   "metadata": {},
   "outputs": [],
   "source": []
  },
  {
   "cell_type": "code",
   "execution_count": null,
   "metadata": {},
   "outputs": [],
   "source": []
  },
  {
   "cell_type": "code",
   "execution_count": null,
   "metadata": {},
   "outputs": [],
   "source": []
  },
  {
   "cell_type": "code",
   "execution_count": null,
   "metadata": {},
   "outputs": [],
   "source": []
  },
  {
   "cell_type": "code",
   "execution_count": null,
   "metadata": {},
   "outputs": [],
   "source": []
  },
  {
   "cell_type": "code",
   "execution_count": null,
   "metadata": {},
   "outputs": [],
   "source": []
  },
  {
   "cell_type": "code",
   "execution_count": null,
   "metadata": {},
   "outputs": [],
   "source": []
  },
  {
   "cell_type": "code",
   "execution_count": null,
   "metadata": {},
   "outputs": [],
   "source": []
  },
  {
   "cell_type": "code",
   "execution_count": null,
   "metadata": {},
   "outputs": [],
   "source": []
  },
  {
   "cell_type": "code",
   "execution_count": null,
   "metadata": {},
   "outputs": [],
   "source": []
  },
  {
   "cell_type": "code",
   "execution_count": null,
   "metadata": {},
   "outputs": [],
   "source": []
  },
  {
   "cell_type": "code",
   "execution_count": null,
   "metadata": {},
   "outputs": [],
   "source": []
  },
  {
   "cell_type": "code",
   "execution_count": null,
   "metadata": {},
   "outputs": [],
   "source": []
  },
  {
   "cell_type": "code",
   "execution_count": null,
   "metadata": {},
   "outputs": [],
   "source": []
  },
  {
   "cell_type": "code",
   "execution_count": null,
   "metadata": {},
   "outputs": [],
   "source": []
  },
  {
   "cell_type": "code",
   "execution_count": null,
   "metadata": {},
   "outputs": [],
   "source": []
  },
  {
   "cell_type": "code",
   "execution_count": null,
   "metadata": {},
   "outputs": [],
   "source": []
  },
  {
   "cell_type": "code",
   "execution_count": null,
   "metadata": {},
   "outputs": [],
   "source": []
  },
  {
   "cell_type": "code",
   "execution_count": null,
   "metadata": {},
   "outputs": [],
   "source": []
  },
  {
   "cell_type": "code",
   "execution_count": null,
   "metadata": {},
   "outputs": [],
   "source": []
  },
  {
   "cell_type": "code",
   "execution_count": null,
   "metadata": {},
   "outputs": [],
   "source": []
  },
  {
   "cell_type": "code",
   "execution_count": null,
   "metadata": {},
   "outputs": [],
   "source": []
  },
  {
   "cell_type": "code",
   "execution_count": null,
   "metadata": {},
   "outputs": [],
   "source": []
  },
  {
   "cell_type": "code",
   "execution_count": null,
   "metadata": {},
   "outputs": [],
   "source": []
  },
  {
   "cell_type": "code",
   "execution_count": null,
   "metadata": {},
   "outputs": [],
   "source": []
  },
  {
   "cell_type": "code",
   "execution_count": null,
   "metadata": {},
   "outputs": [],
   "source": []
  },
  {
   "cell_type": "code",
   "execution_count": null,
   "metadata": {},
   "outputs": [],
   "source": []
  },
  {
   "cell_type": "code",
   "execution_count": null,
   "metadata": {},
   "outputs": [],
   "source": []
  },
  {
   "cell_type": "code",
   "execution_count": null,
   "metadata": {},
   "outputs": [],
   "source": []
  },
  {
   "cell_type": "code",
   "execution_count": null,
   "metadata": {},
   "outputs": [],
   "source": []
  }
 ],
 "metadata": {
  "kernelspec": {
   "display_name": "Julia 1.7.3",
   "language": "julia",
   "name": "julia-1.7"
  },
  "language_info": {
   "file_extension": ".jl",
   "mimetype": "application/julia",
   "name": "julia",
   "version": "1.7.3"
  }
 },
 "nbformat": 4,
 "nbformat_minor": 4
}
